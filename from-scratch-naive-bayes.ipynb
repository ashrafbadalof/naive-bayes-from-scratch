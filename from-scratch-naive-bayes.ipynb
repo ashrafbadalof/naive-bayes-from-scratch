{
 "cells": [
  {
   "cell_type": "code",
   "execution_count": 8,
   "id": "6994fc64-4287-49e5-a6ff-298a401b7c93",
   "metadata": {},
   "outputs": [],
   "source": [
    "import numpy as np"
   ]
  },
  {
   "cell_type": "code",
   "execution_count": 54,
   "id": "0bb62e6c-8d63-48ba-bad5-633d791cde18",
   "metadata": {},
   "outputs": [],
   "source": [
    "class NaiveBayes:\n",
    "\n",
    "    def fit(self, X, y):\n",
    "        n_samples, n_features = X.shape\n",
    "        self._classes = np.unique(y)\n",
    "        n_classes = len(self._classes)\n",
    "\n",
    "        self._mean = np.zeros((n_classes, n_features), dtype = np.float64)\n",
    "        self._var = np.zeros((n_classes, n_features), dtype = np.float64)\n",
    "        self._prior = np.zeros(n_classes, dtype = np.float64)\n",
    "\n",
    "        for index, c in enumerate(self._classes):\n",
    "            X_c = X[y==c]\n",
    "            self._mean[index, :] = X_c.mean(axis = 0)\n",
    "            self._var[index, :] = X_c.var(axis = 0)\n",
    "            self._prior[index] = X_c.shape[0] / float(n_samples)\n",
    "\n",
    "    def predict(self, X):\n",
    "        y_pred = [self._predict(x) for x in X]\n",
    "        return np.array(y_pred)\n",
    "\n",
    "    def _predict(self, x):\n",
    "        posteriors = []\n",
    "\n",
    "        for index, c in enumerate(self._classes):\n",
    "            prior = np.log(self._prior[index])\n",
    "            posterior = np.sum(np.log(self._pdf(index, x)))\n",
    "            posterior += prior\n",
    "            posteriors.append(posterior)\n",
    "        return self._classes[np.argmax(posteriors)]\n",
    "\n",
    "    def _pdf(self, index, x):\n",
    "        mean = self._mean[index]\n",
    "        var = self._var[index]\n",
    "        nominator = np.exp(-((x - mean) ** 2) / (2 * var))\n",
    "        denominator = np.sqrt(np.pi * 2 * var)\n",
    "        return nominator / denominator"
   ]
  },
  {
   "cell_type": "code",
   "execution_count": 55,
   "id": "5be3c3b7-8fb8-4ee2-9bb4-b3d4b46ecc6e",
   "metadata": {},
   "outputs": [],
   "source": [
    "from sklearn import datasets\n",
    "from sklearn.model_selection import train_test_split\n",
    "from sklearn.metrics import accuracy_score\n",
    "\n",
    "X, y = datasets.make_classification(n_samples = 1000, n_features =10, n_classes = 2, random_state = 42)\n",
    "\n",
    "X_train, X_test, y_train, y_test = train_test_split(X, y, test_size = 0.2)"
   ]
  },
  {
   "cell_type": "code",
   "execution_count": 56,
   "id": "a321be06-373b-4d48-a8e4-8cdd51d6a32c",
   "metadata": {},
   "outputs": [
    {
     "name": "stdout",
     "output_type": "stream",
     "text": [
      "[0 0 1 0 0 1 0 0 0 0 1 1 0 0 0 1 1 1 0 1 0 1 0 1 0 1 1 0 1 0 1 0 0 0 1 0 1\n",
      " 0 0 1 1 0 0 0 1 0 1 0 0 0 1 0 0 1 1 1 0 1 0 0 1 0 0 0 0 1 1 1 0 1 1 1 0 0\n",
      " 0 1 1 1 0 1 0 1 0 0 0 1 0 0 0 1 0 0 0 0 1 1 0 1 1 0 0 0 1 1 1 0 0 1 0 0 0\n",
      " 0 0 1 1 1 0 0 0 1 1 1 0 1 0 1 0 1 0 0 1 0 1 1 0 1 0 0 1 1 1 0 0 1 0 0 1 0\n",
      " 1 1 1 0 0 0 1 0 1 1 1 0 1 1 0 0 1 1 0 0 0 0 1 1 0 1 0 0 0 1 1 0 0 1 0 0 1\n",
      " 0 1 0 0 1 1 1 0 0 0 1 0 0 0 0]\n"
     ]
    }
   ],
   "source": [
    "model = NaiveBayes()\n",
    "model.fit(X_train, y_train)\n",
    "y_preds = model.predict(X_test)\n",
    "print(y_preds)"
   ]
  },
  {
   "cell_type": "code",
   "execution_count": 67,
   "id": "70479453-610e-48a0-8c00-d6eb4b93315b",
   "metadata": {},
   "outputs": [
    {
     "name": "stdout",
     "output_type": "stream",
     "text": [
      "0.845\n"
     ]
    }
   ],
   "source": [
    "acc = accuracy_score(y_preds, y_test)\n",
    "print(acc)"
   ]
  },
  {
   "cell_type": "code",
   "execution_count": 69,
   "id": "bae7e940-5788-495d-a1cb-c340f0cbb9fa",
   "metadata": {},
   "outputs": [
    {
     "data": {
      "text/plain": [
       "0.845"
      ]
     },
     "execution_count": 69,
     "metadata": {},
     "output_type": "execute_result"
    }
   ],
   "source": [
    "def accuracy(prediction, test_set):\n",
    "    acc = np.sum(prediction == test_set) / len(test_set)\n",
    "    return acc\n",
    "accuracy(y_preds, y_test)"
   ]
  }
 ],
 "metadata": {
  "kernelspec": {
   "display_name": "Python 3 (ipykernel)",
   "language": "python",
   "name": "python3"
  },
  "language_info": {
   "codemirror_mode": {
    "name": "ipython",
    "version": 3
   },
   "file_extension": ".py",
   "mimetype": "text/x-python",
   "name": "python",
   "nbconvert_exporter": "python",
   "pygments_lexer": "ipython3",
   "version": "3.11.5"
  }
 },
 "nbformat": 4,
 "nbformat_minor": 5
}
